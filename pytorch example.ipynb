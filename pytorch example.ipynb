{
 "cells": [
  {
   "cell_type": "code",
   "execution_count": 16,
   "id": "b7e91761",
   "metadata": {},
   "outputs": [],
   "source": [
    "import torch"
   ]
  },
  {
   "cell_type": "markdown",
   "id": "866cde6a",
   "metadata": {},
   "source": [
    "### Tensor"
   ]
  },
  {
   "cell_type": "code",
   "execution_count": 9,
   "id": "18d2fed5",
   "metadata": {},
   "outputs": [],
   "source": [
    "# create a 2D default tensor"
   ]
  },
  {
   "cell_type": "code",
   "execution_count": 6,
   "id": "993223e4",
   "metadata": {},
   "outputs": [
    {
     "name": "stdout",
     "output_type": "stream",
     "text": [
      "tensor([[0., 0., 0.],\n",
      "        [0., 0., 0.],\n",
      "        [0., 0., 0.],\n",
      "        [0., 0., 0.],\n",
      "        [0., 0., 0.]])\n",
      "<built-in method type of Tensor object at 0x7f83b0a86360>\n"
     ]
    }
   ],
   "source": [
    "z = torch.zeros(5,3)\n",
    "print(z)\n",
    "print(z.type)"
   ]
  },
  {
   "cell_type": "code",
   "execution_count": 7,
   "id": "23a37cb8",
   "metadata": {},
   "outputs": [],
   "source": [
    "# datatype is 32-bit floating point numbers"
   ]
  },
  {
   "cell_type": "code",
   "execution_count": 8,
   "id": "e13c1bb5",
   "metadata": {},
   "outputs": [
    {
     "name": "stdout",
     "output_type": "stream",
     "text": [
      "tensor([[1, 1, 1],\n",
      "        [1, 1, 1],\n",
      "        [1, 1, 1],\n",
      "        [1, 1, 1],\n",
      "        [1, 1, 1]], dtype=torch.int16)\n"
     ]
    }
   ],
   "source": [
    "i = torch.ones((5,3),dtype = torch.int16)\n",
    "print(i)"
   ]
  },
  {
   "cell_type": "code",
   "execution_count": 10,
   "id": "ed9565cc",
   "metadata": {},
   "outputs": [],
   "source": [
    "# initialize learning weights randomly"
   ]
  },
  {
   "cell_type": "code",
   "execution_count": 11,
   "id": "e8785bac",
   "metadata": {},
   "outputs": [
    {
     "name": "stdout",
     "output_type": "stream",
     "text": [
      "tensor([[0.3126, 0.3791],\n",
      "        [0.3087, 0.0736]])\n",
      "tensor([[0.4216, 0.0691],\n",
      "        [0.2332, 0.4047]])\n"
     ]
    }
   ],
   "source": [
    "torch.manual_seed(1729)\n",
    "r1 = torch.rand(2,2)\n",
    "print(r1)\n",
    "\n",
    "r2 = torch.rand(2,2)\n",
    "print(r2)"
   ]
  },
  {
   "cell_type": "code",
   "execution_count": 12,
   "id": "1c52f8f0",
   "metadata": {},
   "outputs": [],
   "source": [
    "# tensors of similar shapes may be added, multiplied"
   ]
  },
  {
   "cell_type": "code",
   "execution_count": 13,
   "id": "c0a69307",
   "metadata": {},
   "outputs": [
    {
     "name": "stdout",
     "output_type": "stream",
     "text": [
      "tensor([[1., 1., 1.],\n",
      "        [1., 1., 1.]])\n",
      "tensor([[2., 2., 2.],\n",
      "        [2., 2., 2.]])\n",
      "tensor([[3., 3., 3.],\n",
      "        [3., 3., 3.]])\n",
      "torch.Size([2, 3])\n"
     ]
    }
   ],
   "source": [
    "ones = torch.ones(2,3)\n",
    "print(ones)\n",
    "twos = torch.ones(2,3)*2\n",
    "print(twos)\n",
    "threes = ones + twos\n",
    "print(threes)\n",
    "print(threes.shape) # this has the same dimension as input tensors\n",
    "\n"
   ]
  },
  {
   "cell_type": "code",
   "execution_count": 14,
   "id": "ca46e651",
   "metadata": {},
   "outputs": [],
   "source": [
    "# Basic operation of tensors"
   ]
  },
  {
   "cell_type": "code",
   "execution_count": 15,
   "id": "cf544298",
   "metadata": {},
   "outputs": [
    {
     "name": "stdout",
     "output_type": "stream",
     "text": [
      "tensor([[-0.7838, -0.0073],\n",
      "        [-0.5872, -0.4062]])\n",
      "tensor([[0.7838, 0.0073],\n",
      "        [0.5872, 0.4062]])\n",
      "tensor([[-0.9007, -0.0073],\n",
      "        [-0.6277, -0.4183]])\n",
      "tensor(0.3141)\n",
      "torch.return_types.svd(\n",
      "U=tensor([[-0.7457, -0.6663],\n",
      "        [-0.6663,  0.7457]]),\n",
      "S=tensor([1.0140, 0.3097]),\n",
      "V=tensor([[ 0.9622,  0.2723],\n",
      "        [ 0.2723, -0.9622]]))\n",
      "(tensor(0.3307), tensor(-0.4461))\n"
     ]
    }
   ],
   "source": [
    "r = torch.rand(2,2) - 0.5*2 # values between -1 and 1\n",
    "print(r)\n",
    "\n",
    "print(torch.abs(r))\n",
    "\n",
    "print(torch.asin(r)) # inverse sine of r\n",
    "\n",
    "print(torch.det(r)) # determinant\n",
    "print(torch.svd(r)) # singular value decomposition\n",
    "\n",
    "print(torch.std_mean(r)) # std mean"
   ]
  },
  {
   "cell_type": "markdown",
   "id": "a12f1f6b",
   "metadata": {},
   "source": [
    "### Autograd"
   ]
  },
  {
   "cell_type": "code",
   "execution_count": 17,
   "id": "d3088695",
   "metadata": {},
   "outputs": [],
   "source": [
    "# Simple recurrent network\n",
    "x = torch.randn(1,10)\n",
    "prev_h = torch.randn(1,20)\n",
    "W_h = torch.randn(20,20)\n",
    "W_x = torch.randn(20,10)\n"
   ]
  },
  {
   "cell_type": "code",
   "execution_count": 18,
   "id": "9e421536",
   "metadata": {},
   "outputs": [],
   "source": [
    "# x is the input, h is the hidden state"
   ]
  },
  {
   "cell_type": "code",
   "execution_count": 19,
   "id": "2082a0f8",
   "metadata": {},
   "outputs": [],
   "source": [
    "# use matrix multiplication to both"
   ]
  },
  {
   "cell_type": "code",
   "execution_count": 23,
   "id": "cbecd390",
   "metadata": {},
   "outputs": [
    {
     "ename": "RuntimeError",
     "evalue": "element 0 of tensors does not require grad and does not have a grad_fn",
     "output_type": "error",
     "traceback": [
      "\u001b[0;31m---------------------------------------------------------------------------\u001b[0m",
      "\u001b[0;31mRuntimeError\u001b[0m                              Traceback (most recent call last)",
      "\u001b[0;32m/var/folders/97/1d90bsln0k77tbcmbxc659fr0000gn/T/ipykernel_94581/507330775.py\u001b[0m in \u001b[0;36m<module>\u001b[0;34m\u001b[0m\n\u001b[1;32m      7\u001b[0m \u001b[0;31m# the difference between correct output and actual condition\u001b[0m\u001b[0;34m\u001b[0m\u001b[0;34m\u001b[0m\u001b[0m\n\u001b[1;32m      8\u001b[0m \u001b[0mloss\u001b[0m \u001b[0;34m=\u001b[0m \u001b[0mnext_h\u001b[0m\u001b[0;34m.\u001b[0m\u001b[0msum\u001b[0m\u001b[0;34m(\u001b[0m\u001b[0;34m)\u001b[0m\u001b[0;34m\u001b[0m\u001b[0;34m\u001b[0m\u001b[0m\n\u001b[0;32m----> 9\u001b[0;31m \u001b[0mloss\u001b[0m\u001b[0;34m.\u001b[0m\u001b[0mbackward\u001b[0m\u001b[0;34m(\u001b[0m\u001b[0;34m)\u001b[0m\u001b[0;34m\u001b[0m\u001b[0;34m\u001b[0m\u001b[0m\n\u001b[0m\u001b[1;32m     10\u001b[0m \u001b[0;31m# use backward to trace back the computation\u001b[0m\u001b[0;34m\u001b[0m\u001b[0;34m\u001b[0m\u001b[0m\n",
      "\u001b[0;32m~/opt/anaconda3/lib/python3.9/site-packages/torch/_tensor.py\u001b[0m in \u001b[0;36mbackward\u001b[0;34m(self, gradient, retain_graph, create_graph, inputs)\u001b[0m\n\u001b[1;32m    486\u001b[0m                 \u001b[0minputs\u001b[0m\u001b[0;34m=\u001b[0m\u001b[0minputs\u001b[0m\u001b[0;34m,\u001b[0m\u001b[0;34m\u001b[0m\u001b[0;34m\u001b[0m\u001b[0m\n\u001b[1;32m    487\u001b[0m             )\n\u001b[0;32m--> 488\u001b[0;31m         torch.autograd.backward(\n\u001b[0m\u001b[1;32m    489\u001b[0m             \u001b[0mself\u001b[0m\u001b[0;34m,\u001b[0m \u001b[0mgradient\u001b[0m\u001b[0;34m,\u001b[0m \u001b[0mretain_graph\u001b[0m\u001b[0;34m,\u001b[0m \u001b[0mcreate_graph\u001b[0m\u001b[0;34m,\u001b[0m \u001b[0minputs\u001b[0m\u001b[0;34m=\u001b[0m\u001b[0minputs\u001b[0m\u001b[0;34m\u001b[0m\u001b[0;34m\u001b[0m\u001b[0m\n\u001b[1;32m    490\u001b[0m         )\n",
      "\u001b[0;32m~/opt/anaconda3/lib/python3.9/site-packages/torch/autograd/__init__.py\u001b[0m in \u001b[0;36mbackward\u001b[0;34m(tensors, grad_tensors, retain_graph, create_graph, grad_variables, inputs)\u001b[0m\n\u001b[1;32m    195\u001b[0m     \u001b[0;31m# some Python versions print out the first line of a multi-line function\u001b[0m\u001b[0;34m\u001b[0m\u001b[0;34m\u001b[0m\u001b[0m\n\u001b[1;32m    196\u001b[0m     \u001b[0;31m# calls in the traceback and some print out the last line\u001b[0m\u001b[0;34m\u001b[0m\u001b[0;34m\u001b[0m\u001b[0m\n\u001b[0;32m--> 197\u001b[0;31m     Variable._execution_engine.run_backward(  # Calls into the C++ engine to run the backward pass\n\u001b[0m\u001b[1;32m    198\u001b[0m         \u001b[0mtensors\u001b[0m\u001b[0;34m,\u001b[0m \u001b[0mgrad_tensors_\u001b[0m\u001b[0;34m,\u001b[0m \u001b[0mretain_graph\u001b[0m\u001b[0;34m,\u001b[0m \u001b[0mcreate_graph\u001b[0m\u001b[0;34m,\u001b[0m \u001b[0minputs\u001b[0m\u001b[0;34m,\u001b[0m\u001b[0;34m\u001b[0m\u001b[0;34m\u001b[0m\u001b[0m\n\u001b[1;32m    199\u001b[0m         allow_unreachable=True, accumulate_grad=True)  # Calls into the C++ engine to run the backward pass\n",
      "\u001b[0;31mRuntimeError\u001b[0m: element 0 of tensors does not require grad and does not have a grad_fn"
     ]
    }
   ],
   "source": [
    "i2h = torch.mm(W_x,x.t())\n",
    "h2h = torch.mm(W_h,prev_h.t())\n",
    "# add two together\n",
    "next_h = i2h + h2h\n",
    "# pass the result to an activation function, here tanh\n",
    "next_h = next_h.tanh()\n",
    "# the difference between correct output and actual condition\n",
    "loss = next_h.sum()\n",
    "loss.backward()\n",
    "# use backward to trace back the computation"
   ]
  },
  {
   "cell_type": "code",
   "execution_count": 22,
   "id": "413a9847",
   "metadata": {},
   "outputs": [],
   "source": [
    "# How to we adjust the way to reduce loss, it's the point"
   ]
  },
  {
   "cell_type": "markdown",
   "id": "f025a3c5",
   "metadata": {},
   "source": [
    "### Example"
   ]
  },
  {
   "cell_type": "code",
   "execution_count": 25,
   "id": "0481e5cc",
   "metadata": {},
   "outputs": [],
   "source": [
    "import torch.nn as nn # for torch.nn module, the parent obkect for pytorch models\n",
    "import torch.nn.functional as F # for the activation function"
   ]
  },
  {
   "cell_type": "code",
   "execution_count": 27,
   "id": "de2fdf68",
   "metadata": {},
   "outputs": [],
   "source": [
    "class LeNet(nn.Module):\n",
    "    # used for initialization like layers...\n",
    "    def __init__(self):\n",
    "        super(LeNet, self).__init__()\n",
    "    # used for computation\n",
    "    def forward(self,x):\n",
    "        return x\n",
    "    def num_flat_features(self,x):\n",
    "        return num_features"
   ]
  },
  {
   "cell_type": "code",
   "execution_count": 28,
   "id": "38445fb9",
   "metadata": {},
   "outputs": [
    {
     "name": "stdout",
     "output_type": "stream",
     "text": [
      "LeNet()\n"
     ]
    }
   ],
   "source": [
    "net = LeNet()\n",
    "print(net)\n"
   ]
  },
  {
   "cell_type": "code",
   "execution_count": 32,
   "id": "c1321222",
   "metadata": {},
   "outputs": [
    {
     "name": "stdout",
     "output_type": "stream",
     "text": [
      "tensor([[[[0.1676, 0.3847, 0.8932,  ..., 0.0340, 0.2117, 0.6563],\n",
      "          [0.5107, 0.1623, 0.8833,  ..., 0.2558, 0.3819, 0.8492],\n",
      "          [0.6974, 0.9979, 0.1442,  ..., 0.9041, 0.9339, 0.8539],\n",
      "          ...,\n",
      "          [0.3443, 0.3369, 0.6493,  ..., 0.3851, 0.3320, 0.1342],\n",
      "          [0.0780, 0.0677, 0.6386,  ..., 0.7277, 0.2554, 0.7567],\n",
      "          [0.7939, 0.5193, 0.6333,  ..., 0.3206, 0.0321, 0.5643]]]])\n",
      "torch.Size([1, 1, 32, 32])\n",
      "tensor([[[[0.1676, 0.3847, 0.8932,  ..., 0.0340, 0.2117, 0.6563],\n",
      "          [0.5107, 0.1623, 0.8833,  ..., 0.2558, 0.3819, 0.8492],\n",
      "          [0.6974, 0.9979, 0.1442,  ..., 0.9041, 0.9339, 0.8539],\n",
      "          ...,\n",
      "          [0.3443, 0.3369, 0.6493,  ..., 0.3851, 0.3320, 0.1342],\n",
      "          [0.0780, 0.0677, 0.6386,  ..., 0.7277, 0.2554, 0.7567],\n",
      "          [0.7939, 0.5193, 0.6333,  ..., 0.3206, 0.0321, 0.5643]]]])\n",
      "torch.Size([1, 1, 32, 32])\n"
     ]
    }
   ],
   "source": [
    "input = torch.rand(1,1,32,32)\n",
    "print(input)\n",
    "print(input.shape)\n",
    "output = net(input)\n",
    "print(output)\n",
    "print(output.shape)"
   ]
  },
  {
   "cell_type": "code",
   "execution_count": 33,
   "id": "ae009ccd",
   "metadata": {},
   "outputs": [],
   "source": [
    "# it's original now, we need to feed a bunch of data to make it rn"
   ]
  },
  {
   "cell_type": "markdown",
   "id": "7d37a304",
   "metadata": {},
   "source": [
    "### Dataset and Dataloader"
   ]
  },
  {
   "cell_type": "code",
   "execution_count": 34,
   "id": "354e2e38",
   "metadata": {},
   "outputs": [
    {
     "name": "stderr",
     "output_type": "stream",
     "text": [
      "/Users/sallyr/opt/anaconda3/lib/python3.9/site-packages/torchvision/io/image.py:13: UserWarning: Failed to load image Python extension: dlopen(/Users/sallyr/opt/anaconda3/lib/python3.9/site-packages/torchvision/image.so, 6): Library not loaded: @rpath/libjpeg.9.dylib\n",
      "  Referenced from: /Users/sallyr/opt/anaconda3/lib/python3.9/site-packages/torchvision/image.so\n",
      "  Reason: Incompatible library version: image.so requires version 15.0.0 or later, but libjpeg.9.dylib provides version 14.0.0\n",
      "  warn(f\"Failed to load image Python extension: {e}\")\n"
     ]
    }
   ],
   "source": [
    "import torchvision\n",
    "import torchvision.transforms as transforms"
   ]
  },
  {
   "cell_type": "code",
   "execution_count": 35,
   "id": "98cb26af",
   "metadata": {},
   "outputs": [],
   "source": [
    "# introduction to data loader"
   ]
  },
  {
   "cell_type": "code",
   "execution_count": 46,
   "id": "a2e34990",
   "metadata": {},
   "outputs": [],
   "source": [
    "transform = transforms.Compose([transforms.ToTensor(),transforms.Normalize((0.5,0.5,0.5),(0.5,0.5,0.5))])"
   ]
  },
  {
   "cell_type": "markdown",
   "id": "73c12328",
   "metadata": {},
   "source": [
    "two classic transformations: transforms.ToTensor(), transforms.Normalize()"
   ]
  },
  {
   "cell_type": "code",
   "execution_count": 52,
   "id": "d8fba819",
   "metadata": {},
   "outputs": [
    {
     "name": "stdout",
     "output_type": "stream",
     "text": [
      "Files already downloaded and verified\n"
     ]
    }
   ],
   "source": [
    "# not necessary\n",
    "trainset = torchvision.datasets.CIFAR10(root = './data',train = True, download = True, transform = transform)"
   ]
  },
  {
   "cell_type": "code",
   "execution_count": 53,
   "id": "255006d1",
   "metadata": {},
   "outputs": [],
   "source": [
    "# necessary\n",
    "trainloader = torch.utils.data.DataLoader(trainset, batch_size = 4, shuffle = True, num_workers= 2)"
   ]
  },
  {
   "cell_type": "markdown",
   "id": "0aaa2bba",
   "metadata": {},
   "source": [
    "The <mark>DataLoader</mark> knows nothing about the data, but orgainizes the input tensors served by the Dataset into batches with the parameters you specify."
   ]
  },
  {
   "cell_type": "code",
   "execution_count": 49,
   "id": "0ad231d3",
   "metadata": {},
   "outputs": [],
   "source": [
    "import matplotlib.pyplot as plt\n",
    "import numpy as np\n",
    "classes = ('plane','car','bird','cat','deer','dog','frog','horse','ship','truck')"
   ]
  },
  {
   "cell_type": "markdown",
   "id": "f4b04ac1",
   "metadata": {},
   "source": [
    "Image are represented as <mark>[batch_size(if not 0),channels, height, width]</mark>.\n",
    "\n",
    "Therefore a perturbation is applied here"
   ]
  },
  {
   "cell_type": "code",
   "execution_count": 51,
   "id": "9fa4a4b6",
   "metadata": {},
   "outputs": [
    {
     "name": "stderr",
     "output_type": "stream",
     "text": [
      "/Users/sallyr/opt/anaconda3/lib/python3.9/site-packages/torchvision/io/image.py:13: UserWarning: Failed to load image Python extension: dlopen(/Users/sallyr/opt/anaconda3/lib/python3.9/site-packages/torchvision/image.so, 6): Library not loaded: @rpath/libjpeg.9.dylib\n",
      "  Referenced from: /Users/sallyr/opt/anaconda3/lib/python3.9/site-packages/torchvision/image.so\n",
      "  Reason: Incompatible library version: image.so requires version 15.0.0 or later, but libjpeg.9.dylib provides version 14.0.0\n",
      "  warn(f\"Failed to load image Python extension: {e}\")\n",
      "/Users/sallyr/opt/anaconda3/lib/python3.9/site-packages/torchvision/io/image.py:13: UserWarning: Failed to load image Python extension: dlopen(/Users/sallyr/opt/anaconda3/lib/python3.9/site-packages/torchvision/image.so, 6): Library not loaded: @rpath/libjpeg.9.dylib\n",
      "  Referenced from: /Users/sallyr/opt/anaconda3/lib/python3.9/site-packages/torchvision/image.so\n",
      "  Reason: Incompatible library version: image.so requires version 15.0.0 or later, but libjpeg.9.dylib provides version 14.0.0\n",
      "  warn(f\"Failed to load image Python extension: {e}\")\n"
     ]
    },
    {
     "name": "stdout",
     "output_type": "stream",
     "text": [
      " bird  ship   car   dog\n"
     ]
    },
    {
     "data": {
      "image/png": "[encoded data removed]",
      "text/plain": [
       "<Figure size 432x288 with 1 Axes>"
      ]
     },
     "metadata": {
      "needs_background": "light"
     },
     "output_type": "display_data"
    }
   ],
   "source": [
    "def imshow(img):\n",
    "    img = img / 2 + 0.5 # unnormalize\n",
    "    npimg = img.numpy()\n",
    "    plt.imshow(np.transpose(npimg,(1,2,0)))\n",
    "\n",
    "# get some random training images\n",
    "dataiter = iter(trainloader)\n",
    "images, labels = next(dataiter)\n",
    "\n",
    "# show images\n",
    "imshow(torchvision.utils.make_grid(images))\n",
    "\n",
    "# print labels\n",
    "print(' '.join('%5s' % classes[labels[j]] for j in range(4)))"
   ]
  },
  {
   "cell_type": "code",
   "execution_count": 69,
   "id": "e6d8940d",
   "metadata": {},
   "outputs": [],
   "source": [
    "class Net(nn.Module):\n",
    "    def __init__(self):\n",
    "        super(Net,self).__init__()\n",
    "        self.conv1 = nn.Conv2d(3,6,5) #[in_channel, out_channel, kernel_size]\n",
    "        self.pool = nn.MaxPool2d(2,2) #[kernel_size(2*2 square here), stride]\n",
    "        self.conv2 = nn.Conv2d(6,10,5)\n",
    "        self.fc1 = nn.Linear(10*5*5,120) #[in_features, out_features]\n",
    "        self.fc2 = nn.Linear(120, 84)\n",
    "        self.fc3 = nn.Linear(84,10)\n",
    "    \n",
    "    def forward(self,x):\n",
    "        # RELU: activation function\n",
    "        x = self.pool(F.relu(self.conv1(x)))\n",
    "        x = self.pool(F.relu(self.conv2(x)))\n",
    "        # change x's size here, then apply another transform function\n",
    "        # flatten\n",
    "        x = x.view(-1,10*5*5)\n",
    "        x = F.relu(self.fc1(x))\n",
    "        x = F.relu(self.fc2(x))\n",
    "        x = self.fc3(x)\n",
    "        return x\n",
    "net = Net()"
   ]
  },
  {
   "cell_type": "code",
   "execution_count": 60,
   "id": "5620ca59",
   "metadata": {},
   "outputs": [],
   "source": [
    "criterion =nn.CrossEntropyLoss()\n",
    "optimizer = optim.SGD(net.parameters(),lr = 0.001, momentum = 0.9)"
   ]
  },
  {
   "cell_type": "code",
   "execution_count": 61,
   "id": "6ffa8255",
   "metadata": {},
   "outputs": [],
   "source": [
    "# The optimizer is what drives the learning, we use stochastic gradient descent(SGD) now."
   ]
  },
  {
   "cell_type": "code",
   "execution_count": 62,
   "id": "ad6bc258",
   "metadata": {},
   "outputs": [],
   "source": [
    "# we pass net.parameters(), which is a collection of all the learning weights in the model"
   ]
  },
  {
   "cell_type": "code",
   "execution_count": 70,
   "id": "7d854597",
   "metadata": {},
   "outputs": [
    {
     "name": "stderr",
     "output_type": "stream",
     "text": [
      "/Users/sallyr/opt/anaconda3/lib/python3.9/site-packages/torchvision/io/image.py:13: UserWarning: Failed to load image Python extension: dlopen(/Users/sallyr/opt/anaconda3/lib/python3.9/site-packages/torchvision/image.so, 6): Library not loaded: @rpath/libjpeg.9.dylib\n",
      "  Referenced from: /Users/sallyr/opt/anaconda3/lib/python3.9/site-packages/torchvision/image.so\n",
      "  Reason: Incompatible library version: image.so requires version 15.0.0 or later, but libjpeg.9.dylib provides version 14.0.0\n",
      "  warn(f\"Failed to load image Python extension: {e}\")\n",
      "/Users/sallyr/opt/anaconda3/lib/python3.9/site-packages/torchvision/io/image.py:13: UserWarning: Failed to load image Python extension: dlopen(/Users/sallyr/opt/anaconda3/lib/python3.9/site-packages/torchvision/image.so, 6): Library not loaded: @rpath/libjpeg.9.dylib\n",
      "  Referenced from: /Users/sallyr/opt/anaconda3/lib/python3.9/site-packages/torchvision/image.so\n",
      "  Reason: Incompatible library version: image.so requires version 15.0.0 or later, but libjpeg.9.dylib provides version 14.0.0\n",
      "  warn(f\"Failed to load image Python extension: {e}\")\n"
     ]
    },
    {
     "name": "stdout",
     "output_type": "stream",
     "text": [
      "[1, 2000] loss : 2.304\n",
      "[1, 4000] loss : 2.304\n",
      "[1, 6000] loss : 2.305\n",
      "[1, 8000] loss : 2.305\n",
      "[1,10000] loss : 2.305\n",
      "[1,12000] loss : 2.307\n"
     ]
    },
    {
     "name": "stderr",
     "output_type": "stream",
     "text": [
      "/Users/sallyr/opt/anaconda3/lib/python3.9/site-packages/torchvision/io/image.py:13: UserWarning: Failed to load image Python extension: dlopen(/Users/sallyr/opt/anaconda3/lib/python3.9/site-packages/torchvision/image.so, 6): Library not loaded: @rpath/libjpeg.9.dylib\n",
      "  Referenced from: /Users/sallyr/opt/anaconda3/lib/python3.9/site-packages/torchvision/image.so\n",
      "  Reason: Incompatible library version: image.so requires version 15.0.0 or later, but libjpeg.9.dylib provides version 14.0.0\n",
      "  warn(f\"Failed to load image Python extension: {e}\")\n",
      "/Users/sallyr/opt/anaconda3/lib/python3.9/site-packages/torchvision/io/image.py:13: UserWarning: Failed to load image Python extension: dlopen(/Users/sallyr/opt/anaconda3/lib/python3.9/site-packages/torchvision/image.so, 6): Library not loaded: @rpath/libjpeg.9.dylib\n",
      "  Referenced from: /Users/sallyr/opt/anaconda3/lib/python3.9/site-packages/torchvision/image.so\n",
      "  Reason: Incompatible library version: image.so requires version 15.0.0 or later, but libjpeg.9.dylib provides version 14.0.0\n",
      "  warn(f\"Failed to load image Python extension: {e}\")\n"
     ]
    },
    {
     "name": "stdout",
     "output_type": "stream",
     "text": [
      "[2, 2000] loss : 2.305\n",
      "[2, 4000] loss : 2.305\n",
      "[2, 6000] loss : 2.305\n",
      "[2, 8000] loss : 2.306\n",
      "[2,10000] loss : 2.305\n",
      "[2,12000] loss : 2.304\n"
     ]
    },
    {
     "name": "stderr",
     "output_type": "stream",
     "text": [
      "/Users/sallyr/opt/anaconda3/lib/python3.9/site-packages/torchvision/io/image.py:13: UserWarning: Failed to load image Python extension: dlopen(/Users/sallyr/opt/anaconda3/lib/python3.9/site-packages/torchvision/image.so, 6): Library not loaded: @rpath/libjpeg.9.dylib\n",
      "  Referenced from: /Users/sallyr/opt/anaconda3/lib/python3.9/site-packages/torchvision/image.so\n",
      "  Reason: Incompatible library version: image.so requires version 15.0.0 or later, but libjpeg.9.dylib provides version 14.0.0\n",
      "  warn(f\"Failed to load image Python extension: {e}\")\n"
     ]
    },
    {
     "ename": "OSError",
     "evalue": "[Errno 23] Too many open files in system",
     "output_type": "error",
     "traceback": [
      "\u001b[0;31m---------------------------------------------------------------------------\u001b[0m",
      "\u001b[0;31mOSError\u001b[0m                                   Traceback (most recent call last)",
      "\u001b[0;32m/var/folders/97/1d90bsln0k77tbcmbxc659fr0000gn/T/ipykernel_94581/25084753.py\u001b[0m in \u001b[0;36m<module>\u001b[0;34m\u001b[0m\n\u001b[1;32m      1\u001b[0m \u001b[0;32mfor\u001b[0m \u001b[0mepoch\u001b[0m \u001b[0;32min\u001b[0m \u001b[0mrange\u001b[0m\u001b[0;34m(\u001b[0m\u001b[0;36m5\u001b[0m\u001b[0;34m)\u001b[0m \u001b[0;34m:\u001b[0m\u001b[0;34m\u001b[0m\u001b[0;34m\u001b[0m\u001b[0m\n\u001b[1;32m      2\u001b[0m     \u001b[0mrunning_loss\u001b[0m \u001b[0;34m=\u001b[0m \u001b[0;36m0.0\u001b[0m\u001b[0;34m\u001b[0m\u001b[0;34m\u001b[0m\u001b[0m\n\u001b[0;32m----> 3\u001b[0;31m     \u001b[0;32mfor\u001b[0m \u001b[0mi\u001b[0m\u001b[0;34m,\u001b[0m \u001b[0mdata\u001b[0m \u001b[0;32min\u001b[0m \u001b[0menumerate\u001b[0m\u001b[0;34m(\u001b[0m\u001b[0mtrainloader\u001b[0m\u001b[0;34m,\u001b[0m\u001b[0;36m0\u001b[0m\u001b[0;34m)\u001b[0m\u001b[0;34m:\u001b[0m\u001b[0;34m\u001b[0m\u001b[0;34m\u001b[0m\u001b[0m\n\u001b[0m\u001b[1;32m      4\u001b[0m         \u001b[0;31m# get the inputs\u001b[0m\u001b[0;34m\u001b[0m\u001b[0;34m\u001b[0m\u001b[0m\n\u001b[1;32m      5\u001b[0m         \u001b[0minputs\u001b[0m\u001b[0;34m,\u001b[0m \u001b[0mlabels\u001b[0m \u001b[0;34m=\u001b[0m \u001b[0mdata\u001b[0m\u001b[0;34m\u001b[0m\u001b[0;34m\u001b[0m\u001b[0m\n",
      "\u001b[0;32m~/opt/anaconda3/lib/python3.9/site-packages/torch/utils/data/dataloader.py\u001b[0m in \u001b[0;36m__iter__\u001b[0;34m(self)\u001b[0m\n",
      "\u001b[0;32m~/opt/anaconda3/lib/python3.9/site-packages/torch/utils/data/dataloader.py\u001b[0m in \u001b[0;36m_get_iterator\u001b[0;34m(self)\u001b[0m\n",
      "\u001b[0;32m~/opt/anaconda3/lib/python3.9/site-packages/torch/utils/data/dataloader.py\u001b[0m in \u001b[0;36m__init__\u001b[0;34m(self, loader)\u001b[0m\n",
      "\u001b[0;32m~/opt/anaconda3/lib/python3.9/multiprocessing/process.py\u001b[0m in \u001b[0;36mstart\u001b[0;34m(self)\u001b[0m\n",
      "\u001b[0;32m~/opt/anaconda3/lib/python3.9/multiprocessing/context.py\u001b[0m in \u001b[0;36m_Popen\u001b[0;34m(process_obj)\u001b[0m\n",
      "\u001b[0;32m~/opt/anaconda3/lib/python3.9/multiprocessing/context.py\u001b[0m in \u001b[0;36m_Popen\u001b[0;34m(process_obj)\u001b[0m\n",
      "\u001b[0;32m~/opt/anaconda3/lib/python3.9/multiprocessing/popen_spawn_posix.py\u001b[0m in \u001b[0;36m__init__\u001b[0;34m(self, process_obj)\u001b[0m\n",
      "\u001b[0;32m~/opt/anaconda3/lib/python3.9/multiprocessing/popen_fork.py\u001b[0m in \u001b[0;36m__init__\u001b[0;34m(self, process_obj)\u001b[0m\n",
      "\u001b[0;32m~/opt/anaconda3/lib/python3.9/multiprocessing/popen_spawn_posix.py\u001b[0m in \u001b[0;36m_launch\u001b[0;34m(self, process_obj)\u001b[0m\n",
      "\u001b[0;31mOSError\u001b[0m: [Errno 23] Too many open files in system"
     ]
    }
   ],
   "source": [
    "for epoch in range(5) :\n",
    "    running_loss = 0.0\n",
    "    for i, data in enumerate(trainloader,0):\n",
    "        # get the inputs\n",
    "        inputs, labels = data\n",
    "        \n",
    "        # zero the parameter gradients\n",
    "        # it's important to prevent gradient from accumulating\n",
    "        optimizer.zero_grad()\n",
    "        \n",
    "        # forward, backward then optimize\n",
    "        # new model\n",
    "        outputs = net(inputs)\n",
    "        # new loss\n",
    "        loss = criterion(outputs, labels)\n",
    "        loss.backward()\n",
    "        # it's an update function, which creates a single optimization step\n",
    "        optimizer.step()\n",
    "        \n",
    "        running_loss += loss.item()\n",
    "        if i % 2000 == 1999: \n",
    "            print('[%d,%5d] loss : %.3f' % (epoch + 1, i + 1, running_loss/2000))\n",
    "            running_loss = 0.0\n",
    "print('Finished Training')"
   ]
  },
  {
   "cell_type": "code",
   "execution_count": 74,
   "id": "e5705340",
   "metadata": {},
   "outputs": [],
   "source": [
    "# check model on test set with another testloader on a testset(split before)"
   ]
  },
  {
   "cell_type": "code",
   "execution_count": 72,
   "id": "2f34fdf6",
   "metadata": {},
   "outputs": [
    {
     "ename": "NameError",
     "evalue": "name 'testloader' is not defined",
     "output_type": "error",
     "traceback": [
      "\u001b[0;31m---------------------------------------------------------------------------\u001b[0m",
      "\u001b[0;31mNameError\u001b[0m                                 Traceback (most recent call last)",
      "\u001b[0;32m/var/folders/97/1d90bsln0k77tbcmbxc659fr0000gn/T/ipykernel_94581/3133225313.py\u001b[0m in \u001b[0;36m<module>\u001b[0;34m\u001b[0m\n\u001b[1;32m      2\u001b[0m \u001b[0mtotal\u001b[0m \u001b[0;34m=\u001b[0m \u001b[0;36m0\u001b[0m\u001b[0;34m\u001b[0m\u001b[0;34m\u001b[0m\u001b[0m\n\u001b[1;32m      3\u001b[0m \u001b[0;32mwith\u001b[0m \u001b[0mtorch\u001b[0m\u001b[0;34m.\u001b[0m\u001b[0mno_grad\u001b[0m\u001b[0;34m(\u001b[0m\u001b[0;34m)\u001b[0m\u001b[0;34m:\u001b[0m\u001b[0;34m\u001b[0m\u001b[0;34m\u001b[0m\u001b[0m\n\u001b[0;32m----> 4\u001b[0;31m     \u001b[0;32mfor\u001b[0m \u001b[0mdata\u001b[0m \u001b[0;32min\u001b[0m \u001b[0mtestloader\u001b[0m\u001b[0;34m:\u001b[0m\u001b[0;34m\u001b[0m\u001b[0;34m\u001b[0m\u001b[0m\n\u001b[0m\u001b[1;32m      5\u001b[0m         \u001b[0mimages\u001b[0m\u001b[0;34m,\u001b[0m \u001b[0mlabels\u001b[0m \u001b[0;34m=\u001b[0m \u001b[0mdata\u001b[0m\u001b[0;34m\u001b[0m\u001b[0;34m\u001b[0m\u001b[0m\n\u001b[1;32m      6\u001b[0m         \u001b[0moutputs\u001b[0m \u001b[0;34m=\u001b[0m \u001b[0mnet\u001b[0m\u001b[0;34m(\u001b[0m\u001b[0mimages\u001b[0m\u001b[0;34m)\u001b[0m\u001b[0;34m\u001b[0m\u001b[0;34m\u001b[0m\u001b[0m\n",
      "\u001b[0;31mNameError\u001b[0m: name 'testloader' is not defined"
     ]
    }
   ],
   "source": [
    "correct = 0\n",
    "total = 0\n",
    "with torch.no_grad():\n",
    "    for data in testloader:\n",
    "        images, labels = data\n",
    "        outputs = net(images)\n",
    "        _,predicted = torch.max(outputs.data,1)\n",
    "        total += labels.size(0)\n",
    "        correct += (predicted == labels).sum().item()\n",
    "print('Accuracy is: %d %%' % (100 * correct / total))"
   ]
  },
  {
   "cell_type": "code",
   "execution_count": null,
   "id": "44d091b4",
   "metadata": {},
   "outputs": [],
   "source": []
  }
 ],
 "metadata": {
  "kernelspec": {
   "display_name": "Python 3 (ipykernel)",
   "language": "python",
   "name": "python3"
  },
  "language_info": {
   "codemirror_mode": {
    "name": "ipython",
    "version": 3
   },
   "file_extension": ".py",
   "mimetype": "text/x-python",
   "name": "python",
   "nbconvert_exporter": "python",
   "pygments_lexer": "ipython3",
   "version": "3.9.7"
  }
 },
 "nbformat": 4,
 "nbformat_minor": 5
}
